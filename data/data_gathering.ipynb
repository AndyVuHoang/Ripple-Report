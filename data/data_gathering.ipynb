{
 "cells": [
  {
   "cell_type": "code",
   "execution_count": 1,
   "metadata": {},
   "outputs": [],
   "source": [
    "import pandas as pd\n",
    "# gathering data from cryptocompare\n",
    "# creating function to pull historical OHLCV data\n",
    "# period is time period (day, hour, or minute), params is parameters, can be found at\n",
    "# https://min-api.cryptocompare.com/\n",
    "def get_historical_data(period, params, return_url=False):\n",
    "    from urllib.parse import urlencode\n",
    "    import requests\n",
    "    \n",
    "    # error messages\n",
    "    p = [\"day\", \"hour\", \"minute\"]\n",
    "    if(period.lower() not in p):\n",
    "        print(\"Please use \\\"day\\\", \\\"hour\\\", or \\\"minute\\\".\")\n",
    "        return(-1)\n",
    "    \n",
    "    # other parameter errors\n",
    "    # maximum for limit is 2000\n",
    "    if(params['limit']>2000):\n",
    "        print(\"Please use a limit <= 2000.\")\n",
    "        return(-1)\n",
    "    \n",
    "    data_url = 'https://min-api.cryptocompare.com/data/histo' + period.lower() + '?' + urlencode(params)\n",
    "    \n",
    "    data_json = requests.get(data_url).json()\n",
    "    if(return_url):\n",
    "        return(data_url)\n",
    "    \n",
    "    return(pd.DataFrame(data_json['Data']))"
   ]
  },
  {
   "cell_type": "code",
   "execution_count": 3,
   "metadata": {},
   "outputs": [],
   "source": [
    "# getting minute, hourly, and daily data, with last data point always being 7/9/2018 00:00:00 (UTC)\n",
    "import datetime as dt\n",
    "date = '2018-07-09'\n",
    "time = '00:00'\n",
    "# need to specify UTC time zone, otherwise it uses local time zone\n",
    "posix_dt = dt.datetime.strptime('{d} {t}'.format(d=date, t=time), '%Y-%m-%d %H:%M').replace(tzinfo=dt.timezone.utc).timestamp()"
   ]
  },
  {
   "cell_type": "code",
   "execution_count": 21,
   "metadata": {},
   "outputs": [],
   "source": [
    "params = {'fsym' : 'XRP', \n",
    "         'tsym' : 'USD',\n",
    "         'limit' : 2000,\n",
    "         'toTs' : posix_dt}\n",
    "df_minute = get_historical_data(\"minute\", params)\n",
    "df_day = get_historical_data(\"day\", params)\n",
    "df_hour = get_historical_data(\"hour\", params)"
   ]
  },
  {
   "cell_type": "code",
   "execution_count": 22,
   "metadata": {},
   "outputs": [],
   "source": [
    "# changing time for POSIX value to something more readable\n",
    "df_minute['time'] = pd.to_datetime(df_minute['time'], unit='s')\n",
    "df_day['time'] = pd.to_datetime(df_day['time'], unit='s')\n",
    "df_hour['time'] = pd.to_datetime(df_hour['time'], unit='s')"
   ]
  },
  {
   "cell_type": "code",
   "execution_count": 23,
   "metadata": {},
   "outputs": [],
   "source": [
    "file_name = params['fsym'] + '_to_' + params['tsym'] + '.csv'\n",
    "times = ['minute', 'day', 'hour']\n",
    "dfs = [df_minute, df_day, df_hour]\n",
    "for i in range(3):\n",
    "    file_name = params['fsym'] + '_to_' + params['tsym'] + times[i] + '.csv'\n",
    "    dfs[i].to_csv(file_name)"
   ]
  },
  {
   "cell_type": "markdown",
   "metadata": {},
   "source": [
    "## Making the Verification Dataset for Later"
   ]
  },
  {
   "cell_type": "code",
   "execution_count": 11,
   "metadata": {},
   "outputs": [],
   "source": [
    "date = '2018-07-10'\n",
    "time = '9:20'\n",
    "time_now = dt.datetime.strptime('{d} {t}'.format(d=date, t=time), '%Y-%m-%d %H:%M').replace(tzinfo=dt.timezone.utc).timestamp()"
   ]
  },
  {
   "cell_type": "code",
   "execution_count": 12,
   "metadata": {},
   "outputs": [],
   "source": [
    "params = {'fsym' : 'XRP', \n",
    "         'tsym' : 'USD',\n",
    "         'limit' : 2000,\n",
    "         'toTs' : time_now}\n",
    "df = get_historical_data(\"minute\", params)\n",
    "df['time'] = pd.to_datetime(df['time'], unit='s')"
   ]
  },
  {
   "cell_type": "code",
   "execution_count": 14,
   "metadata": {},
   "outputs": [
    {
     "data": {
      "text/html": [
       "<div>\n",
       "<style scoped>\n",
       "    .dataframe tbody tr th:only-of-type {\n",
       "        vertical-align: middle;\n",
       "    }\n",
       "\n",
       "    .dataframe tbody tr th {\n",
       "        vertical-align: top;\n",
       "    }\n",
       "\n",
       "    .dataframe thead th {\n",
       "        text-align: right;\n",
       "    }\n",
       "</style>\n",
       "<table border=\"1\" class=\"dataframe\">\n",
       "  <thead>\n",
       "    <tr style=\"text-align: right;\">\n",
       "      <th></th>\n",
       "      <th>close</th>\n",
       "      <th>high</th>\n",
       "      <th>low</th>\n",
       "      <th>open</th>\n",
       "      <th>time</th>\n",
       "      <th>volumefrom</th>\n",
       "      <th>volumeto</th>\n",
       "    </tr>\n",
       "  </thead>\n",
       "  <tbody>\n",
       "    <tr>\n",
       "      <th>1996</th>\n",
       "      <td>0.4586</td>\n",
       "      <td>0.4587</td>\n",
       "      <td>0.4586</td>\n",
       "      <td>0.4587</td>\n",
       "      <td>2018-07-10 09:16:00</td>\n",
       "      <td>5025.77</td>\n",
       "      <td>2306.52</td>\n",
       "    </tr>\n",
       "    <tr>\n",
       "      <th>1997</th>\n",
       "      <td>0.4586</td>\n",
       "      <td>0.4587</td>\n",
       "      <td>0.4585</td>\n",
       "      <td>0.4586</td>\n",
       "      <td>2018-07-10 09:17:00</td>\n",
       "      <td>30524.21</td>\n",
       "      <td>13998.72</td>\n",
       "    </tr>\n",
       "    <tr>\n",
       "      <th>1998</th>\n",
       "      <td>0.4585</td>\n",
       "      <td>0.4586</td>\n",
       "      <td>0.4585</td>\n",
       "      <td>0.4586</td>\n",
       "      <td>2018-07-10 09:18:00</td>\n",
       "      <td>4489.09</td>\n",
       "      <td>2057.09</td>\n",
       "    </tr>\n",
       "    <tr>\n",
       "      <th>1999</th>\n",
       "      <td>0.4575</td>\n",
       "      <td>0.4587</td>\n",
       "      <td>0.4575</td>\n",
       "      <td>0.4585</td>\n",
       "      <td>2018-07-10 09:19:00</td>\n",
       "      <td>555657.87</td>\n",
       "      <td>254146.65</td>\n",
       "    </tr>\n",
       "    <tr>\n",
       "      <th>2000</th>\n",
       "      <td>0.4561</td>\n",
       "      <td>0.4577</td>\n",
       "      <td>0.4561</td>\n",
       "      <td>0.4575</td>\n",
       "      <td>2018-07-10 09:20:00</td>\n",
       "      <td>219138.26</td>\n",
       "      <td>100049.19</td>\n",
       "    </tr>\n",
       "  </tbody>\n",
       "</table>\n",
       "</div>"
      ],
      "text/plain": [
       "       close    high     low    open                time  volumefrom  \\\n",
       "1996  0.4586  0.4587  0.4586  0.4587 2018-07-10 09:16:00     5025.77   \n",
       "1997  0.4586  0.4587  0.4585  0.4586 2018-07-10 09:17:00    30524.21   \n",
       "1998  0.4585  0.4586  0.4585  0.4586 2018-07-10 09:18:00     4489.09   \n",
       "1999  0.4575  0.4587  0.4575  0.4585 2018-07-10 09:19:00   555657.87   \n",
       "2000  0.4561  0.4577  0.4561  0.4575 2018-07-10 09:20:00   219138.26   \n",
       "\n",
       "       volumeto  \n",
       "1996    2306.52  \n",
       "1997   13998.72  \n",
       "1998    2057.09  \n",
       "1999  254146.65  \n",
       "2000  100049.19  "
      ]
     },
     "execution_count": 14,
     "metadata": {},
     "output_type": "execute_result"
    }
   ],
   "source": [
    "df.tail()"
   ]
  },
  {
   "cell_type": "code",
   "execution_count": 15,
   "metadata": {},
   "outputs": [],
   "source": [
    "file_name = 'XRP_to_USD_verfication.csv'\n",
    "df.to_csv(file_name)"
   ]
  }
 ],
 "metadata": {
  "kernelspec": {
   "display_name": "Python 3",
   "language": "python",
   "name": "python3"
  },
  "language_info": {
   "codemirror_mode": {
    "name": "ipython",
    "version": 3
   },
   "file_extension": ".py",
   "mimetype": "text/x-python",
   "name": "python",
   "nbconvert_exporter": "python",
   "pygments_lexer": "ipython3",
   "version": "3.6.4"
  }
 },
 "nbformat": 4,
 "nbformat_minor": 2
}
